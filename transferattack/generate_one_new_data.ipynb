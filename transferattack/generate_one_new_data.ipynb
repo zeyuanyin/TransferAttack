{
 "cells": [
  {
   "cell_type": "code",
   "execution_count": 16,
   "metadata": {},
   "outputs": [],
   "source": [
    "import pandas as pd\n",
    "import os\n",
    "from tqdm import tqdm\n",
    "import numpy as np"
   ]
  },
  {
   "cell_type": "code",
   "execution_count": 3,
   "metadata": {},
   "outputs": [
    {
     "name": "stdout",
     "output_type": "stream",
     "text": [
      "                           name  label\n",
      "0  ILSVRC2012_val_00006697.JPEG      0\n",
      "1  ILSVRC2012_val_00007197.JPEG      0\n",
      "2  ILSVRC2012_val_00009111.JPEG      0\n",
      "3  ILSVRC2012_val_00009191.JPEG      0\n",
      "4  ILSVRC2012_val_00009346.JPEG      0\n"
     ]
    }
   ],
   "source": [
    "# load pd in /home/zeyuan.yin/My-Adv/imagenet-check/cls_results_all_true_val.csv\n",
    "\n",
    "df = pd.read_csv('/home/zeyuan.yin/My-Adv/imagenet-check/cls_results_all_true_val.csv', header=0)\n",
    "print(df.head())"
   ]
  },
  {
   "cell_type": "code",
   "execution_count": 10,
   "metadata": {},
   "outputs": [
    {
     "name": "stdout",
     "output_type": "stream",
     "text": [
      "no name in this class\n",
      "638\n",
      "999\n"
     ]
    }
   ],
   "source": [
    "add_filename = []\n",
    "for label in range(1000):\n",
    "    name = df[df['label'] == label]['name']\n",
    "    if len(name) == 0:\n",
    "        print('no name in this class')\n",
    "        print(label)\n",
    "    else:\n",
    "        add_filename.append(name.iloc[0])\n",
    "\n",
    "print(len(add_filename))\n"
   ]
  },
  {
   "cell_type": "code",
   "execution_count": 11,
   "metadata": {},
   "outputs": [
    {
     "name": "stdout",
     "output_type": "stream",
     "text": [
      "1000\n"
     ]
    }
   ],
   "source": [
    "name = 'ILSVRC2012_val_00028738.JPEG'\n",
    "add_filename.append(name)\n",
    "print(len(add_filename))"
   ]
  },
  {
   "cell_type": "code",
   "execution_count": 13,
   "metadata": {},
   "outputs": [
    {
     "name": "stdout",
     "output_type": "stream",
     "text": [
      "1000\n"
     ]
    }
   ],
   "source": [
    "dir_path = '/home/zeyuan.yin/My-Adv/new_data/images/'\n",
    "os.makedirs(dir_path, exist_ok=True)\n",
    "\n",
    "for name in add_filename:\n",
    "    os.system('cp /l/users/zeyuan.yin/raw_val/' + name + ' '+ dir_path + name)\n",
    "\n",
    "# check the number of images in data/\n",
    "print(len(os.listdir(dir_path)))"
   ]
  },
  {
   "cell_type": "code",
   "execution_count": 25,
   "metadata": {},
   "outputs": [
    {
     "name": "stdout",
     "output_type": "stream",
     "text": [
      "1000\n",
      "                             name  label\n",
      "3    ILSVRC2012_val_00006697.JPEG      0\n",
      "51   ILSVRC2012_val_00000262.JPEG      1\n",
      "100  ILSVRC2012_val_00002338.JPEG      2\n",
      "150  ILSVRC2012_val_00002922.JPEG      3\n",
      "201  ILSVRC2012_val_00003558.JPEG      4\n"
     ]
    }
   ],
   "source": [
    "## generate the csv file\n",
    "\n",
    "# gen labels.csv\n",
    "# filename,label\n",
    "# ILSVRC2012_val_00013716.JPEG,0\n",
    "# ILSVRC2012_val_00020785.JPEG,1\n",
    "\n",
    "# load pd in /home/zeyuan.yin/My-Adv/imagenet-check/cls_results_val.csv\n",
    "\n",
    "df = pd.read_csv('/home/zeyuan.yin/My-Adv/imagenet-check/cls_results_val.csv', header=0)\n",
    "# print(df.head())\n",
    "\n",
    "# load all filename under /home/zeyuan.yin/My-Adv/data/images\n",
    "all_filename = os.listdir(dir_path)\n",
    "\n",
    "# extract df for only name in add_filename\n",
    "df = df[df['name'].isin(all_filename)]\n",
    "print(len(df))\n",
    "# print(df.head(5))\n",
    "\n",
    "# only save the name and label in df\n",
    "df = df[['name', 'label']]\n",
    "print(df.head(5))\n",
    "\n",
    "# save to /home/zeyuan.yin/My-Adv/data/labels_new.csv\n",
    "df.to_csv('/home/zeyuan.yin/My-Adv/new_data/labels.csv', index=False)"
   ]
  },
  {
   "cell_type": "code",
   "execution_count": 20,
   "metadata": {},
   "outputs": [
    {
     "name": "stdout",
     "output_type": "stream",
     "text": [
      "name     object\n",
      "label     int64\n",
      "dtype: object\n",
      "                           name  label targeted_label\n",
      "0  ILSVRC2012_val_00006697.JPEG      0            649\n",
      "1  ILSVRC2012_val_00000262.JPEG      1            418\n",
      "2  ILSVRC2012_val_00002338.JPEG      2            166\n",
      "3  ILSVRC2012_val_00002922.JPEG      3            291\n",
      "4  ILSVRC2012_val_00003558.JPEG      4            611\n"
     ]
    }
   ],
   "source": [
    "## generate random target label (int)\n",
    "\n",
    "df = pd.read_csv('/home/zeyuan.yin/My-Adv/new_data/labels.csv', header=0)\n",
    "\n",
    "print(df.dtypes)\n",
    "for label in df['label']:\n",
    "    targeted_label = np.random.randint(0, 1000)\n",
    "    assert targeted_label != label, 'retry'\n",
    "    df.loc[df['label'] == label, 'targeted_label'] = str(int(targeted_label))\n",
    "\n",
    "\n",
    "print(df.head(5))\n",
    "\n",
    "df.to_csv('/home/zeyuan.yin/My-Adv/new_data/labels_targeted.csv', index=False)"
   ]
  },
  {
   "cell_type": "markdown",
   "metadata": {},
   "source": [
    "## doule check"
   ]
  },
  {
   "cell_type": "code",
   "execution_count": 2,
   "metadata": {},
   "outputs": [
    {
     "name": "stdout",
     "output_type": "stream",
     "text": [
      "10\n",
      "10\n",
      "[(58,), (269,), (595,), (79,), (369,), (596,), (837,), (248,), (664,), (572,)]\n",
      "[('ILSVRC2012_val_00002836.JPEG',), ('ILSVRC2012_val_00000912.JPEG',), ('ILSVRC2012_val_00001840.JPEG',), ('ILSVRC2012_val_00003981.JPEG',), ('ILSVRC2012_val_00002857.JPEG',), ('ILSVRC2012_val_00002588.JPEG',), ('ILSVRC2012_val_00005437.JPEG',), ('ILSVRC2012_val_00002066.JPEG',), ('ILSVRC2012_val_00004758.JPEG',), ('ILSVRC2012_val_00004591.JPEG',)]\n"
     ]
    }
   ],
   "source": [
    "# load list at /home/zeyuan.yin/My-Adv/TransferAttack_sync/not_correct_list_label.pkl\n",
    "\n",
    "import os\n",
    "import pickle\n",
    "import numpy as np\n",
    "import pandas as pd\n",
    "\n",
    "\n",
    "not_correct_list_label = pickle.load(open('/home/zeyuan.yin/My-Adv/TransferAttack_sync/not_correct_list_label.pkl', 'rb'))\n",
    "not_correct_list_name = pickle.load(open('/home/zeyuan.yin/My-Adv/TransferAttack_sync/not_correct_list_name.pkl', 'rb'))\n",
    "\n",
    "print(len(not_correct_list_label))\n",
    "print(len(not_correct_list_name))\n",
    "\n",
    "print(not_correct_list_label)\n",
    "print(not_correct_list_name)\n",
    "\n",
    "# 1st\n",
    "# [(58,), (269,), (595,), (79,), (369,), (596,), (837,), (248,), (664,), (572,)]\n",
    "# [('ILSVRC2012_val_00002836.JPEG',), ('ILSVRC2012_val_00000912.JPEG',), ('ILSVRC2012_val_00001840.JPEG',), ('ILSVRC2012_val_00003981.JPEG',), ('ILSVRC2012_val_00002857.JPEG',), ('ILSVRC2012_val_00002588.JPEG',), ('ILSVRC2012_val_00005437.JPEG',), ('ILSVRC2012_val_00002066.JPEG',), ('ILSVRC2012_val_00004758.JPEG',), ('ILSVRC2012_val_00004591.JPEG',)]\n"
   ]
  },
  {
   "cell_type": "code",
   "execution_count": 23,
   "metadata": {},
   "outputs": [
    {
     "name": "stdout",
     "output_type": "stream",
     "text": [
      "990\n"
     ]
    }
   ],
   "source": [
    "# remove not_correct_list_name from /home/zeyuan.yin/My-Adv/new_data/images\n",
    "\n",
    "dir_path = '/home/zeyuan.yin/My-Adv/new_data/images/'\n",
    "\n",
    "for name in not_correct_list_name:\n",
    "    os.system('rm ' + dir_path + name[0])\n",
    "\n",
    "# check\n",
    "print(len(os.listdir(dir_path)))"
   ]
  },
  {
   "cell_type": "code",
   "execution_count": 24,
   "metadata": {},
   "outputs": [
    {
     "name": "stdout",
     "output_type": "stream",
     "text": [
      "1000\n"
     ]
    }
   ],
   "source": [
    "add_filename = ['ILSVRC2012_val_00006011.JPEG','ILSVRC2012_val_00001469.JPEG','ILSVRC2012_val_00003459.JPEG','ILSVRC2012_val_00004136.JPEG','ILSVRC2012_val_00003337.JPEG','ILSVRC2012_val_00003307.JPEG','ILSVRC2012_val_00016088.JPEG','ILSVRC2012_val_00005446.JPEG','ILSVRC2012_val_00017128.JPEG','ILSVRC2012_val_00010965.JPEG']\n",
    "\n",
    "\n",
    "dir_path = '/home/zeyuan.yin/My-Adv/new_data/images/'\n",
    "os.makedirs(dir_path, exist_ok=True)\n",
    "\n",
    "for name in add_filename:\n",
    "    os.system('cp /l/users/zeyuan.yin/raw_val/' + name + ' '+ dir_path + name)\n",
    "\n",
    "# check the number of images in data/\n",
    "print(len(os.listdir(dir_path)))"
   ]
  }
 ],
 "metadata": {
  "kernelspec": {
   "display_name": "Python 3",
   "language": "python",
   "name": "python3"
  },
  "language_info": {
   "codemirror_mode": {
    "name": "ipython",
    "version": 3
   },
   "file_extension": ".py",
   "mimetype": "text/x-python",
   "name": "python",
   "nbconvert_exporter": "python",
   "pygments_lexer": "ipython3",
   "version": "3.8.0"
  }
 },
 "nbformat": 4,
 "nbformat_minor": 2
}
