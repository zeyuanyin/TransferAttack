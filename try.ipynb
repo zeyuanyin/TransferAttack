{
 "cells": [
  {
   "cell_type": "code",
   "execution_count": 1,
   "metadata": {},
   "outputs": [
    {
     "data": {
      "text/plain": [
       "49"
      ]
     },
     "execution_count": 1,
     "metadata": {},
     "output_type": "execute_result"
    }
   ],
   "source": [
    "choices=['fgsm', 'ifgsm', 'mifgsm', 'nifgsm', 'pifgsm', 'vmifgsm', 'vnifgsm', 'emifgsm', 'ifgssm', 'vaifgsm', 'aifgtm', 'rap', 'gifgsm', 'pcifgsm', 'iefgsm', 'dta', 'gra', 'pgn', 'smifgrm',\n",
    "                                'dim', 'tim', 'sim', 'atta', 'admix', 'dem', 'ssm', 'maskblock', 'sia', 'stm', 'bsr',\n",
    "                                'tap', 'ila', 'fia', 'yaila', 'trap', 'naa', 'rpa', 'taig', 'fmaa', 'ilpd',\n",
    "                                'sgm', 'dsm', 'mta', 'mup', 'bpa', 'dhf', 'pna_patchout', 'sapr', 'tgr'\n",
    "                        ]\n",
    "len(choices)"
   ]
  },
  {
   "cell_type": "code",
   "execution_count": 4,
   "metadata": {},
   "outputs": [
    {
     "name": "stdout",
     "output_type": "stream",
     "text": [
      "49\n",
      "dict_keys(['fgsm', 'ifgsm', 'mifgsm', 'nifgsm', 'pifgsm', 'vmifgsm', 'vnifgsm', 'emifgsm', 'ifgssm', 'vaifgsm', 'aifgtm', 'rap', 'gifgsm', 'pcifgsm', 'iefgsm', 'dta', 'gra', 'pgn', 'smifgrm', 'dim', 'tim', 'sim', 'atta', 'admix', 'dem', 'ssm', 'maskblock', 'sia', 'stm', 'bsr', 'tap', 'ila', 'fia', 'yaila', 'trap', 'naa', 'rpa', 'taig', 'fmaa', 'ilpd', 'sgm', 'dsm', 'mta', 'mup', 'bpa', 'dhf', 'pna_patchout', 'sapr', 'tgr'])\n"
     ]
    }
   ],
   "source": [
    "from transferattack import attack_zoo\n",
    "\n",
    "attack_names = attack_zoo.keys()\n",
    "\n",
    "\n",
    "# attack_names = [name for name in transferattack.__dict__ if not name.startswith(\"__\") and callable(transferattack.__dict__[name])]\n",
    "print(len(attack_names))\n",
    "\n",
    "print(attack_names)\n"
   ]
  }
 ],
 "metadata": {
  "kernelspec": {
   "display_name": "Python 3",
   "language": "python",
   "name": "python3"
  },
  "language_info": {
   "codemirror_mode": {
    "name": "ipython",
    "version": 3
   },
   "file_extension": ".py",
   "mimetype": "text/x-python",
   "name": "python",
   "nbconvert_exporter": "python",
   "pygments_lexer": "ipython3",
   "version": "3.8.0"
  }
 },
 "nbformat": 4,
 "nbformat_minor": 2
}
