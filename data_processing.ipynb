{
 "cells": [
  {
   "cell_type": "code",
   "execution_count": 1,
   "metadata": {},
   "outputs": [
    {
     "name": "stdout",
     "output_type": "stream",
     "text": [
      "10\n",
      "10\n",
      "[(58,), (269,), (595,), (79,), (369,), (596,), (837,), (248,), (664,), (572,)]\n",
      "[('ILSVRC2012_val_00002836.JPEG',), ('ILSVRC2012_val_00000912.JPEG',), ('ILSVRC2012_val_00001840.JPEG',), ('ILSVRC2012_val_00003981.JPEG',), ('ILSVRC2012_val_00002857.JPEG',), ('ILSVRC2012_val_00002588.JPEG',), ('ILSVRC2012_val_00005437.JPEG',), ('ILSVRC2012_val_00002066.JPEG',), ('ILSVRC2012_val_00004758.JPEG',), ('ILSVRC2012_val_00004591.JPEG',)]\n"
     ]
    }
   ],
   "source": [
    "# load list at /home/zeyuan.yin/My-Adv/TransferAttack_sync/not_correct_list_label.pkl\n",
    "\n",
    "import os\n",
    "import pickle\n",
    "import numpy as np\n",
    "import pandas as pd\n",
    "\n",
    "\n",
    "not_correct_list_label = pickle.load(open('/home/zeyuan.yin/My-Adv/TransferAttack_sync/not_correct_list_label.pkl', 'rb'))\n",
    "not_correct_list_name = pickle.load(open('/home/zeyuan.yin/My-Adv/TransferAttack_sync/not_correct_list_name.pkl', 'rb'))\n",
    "\n",
    "print(len(not_correct_list_label))\n",
    "print(len(not_correct_list_name))\n",
    "\n",
    "print(not_correct_list_label)\n",
    "print(not_correct_list_name[:10])\n"
   ]
  },
  {
   "cell_type": "code",
   "execution_count": 56,
   "metadata": {},
   "outputs": [
    {
     "name": "stdout",
     "output_type": "stream",
     "text": [
      "1000\n"
     ]
    }
   ],
   "source": [
    "# step 1. remove the images in not_correct_list_name from data/\n",
    "\n",
    "dir_path = '/home/zeyuan.yin/My-Adv/data/images'\n",
    "# for name in not_correct_list_name:\n",
    "#     name = name[0]\n",
    "#     os.remove(os.path.join(dir_path, name))\n",
    "\n",
    "# check the number of images in data/\n",
    "print(len(os.listdir(dir_path)))"
   ]
  },
  {
   "cell_type": "code",
   "execution_count": 4,
   "metadata": {},
   "outputs": [
    {
     "name": "stdout",
     "output_type": "stream",
     "text": [
      "                           name  label\n",
      "0  ILSVRC2012_val_00006697.JPEG      0\n",
      "1  ILSVRC2012_val_00007197.JPEG      0\n",
      "2  ILSVRC2012_val_00009111.JPEG      0\n",
      "3  ILSVRC2012_val_00009191.JPEG      0\n",
      "4  ILSVRC2012_val_00009346.JPEG      0\n"
     ]
    }
   ],
   "source": [
    "# load pd in /home/zeyuan.yin/My-Adv/imagenet-check/cls_results_all_true_val.csv\n",
    "\n",
    "df = pd.read_csv('/home/zeyuan.yin/My-Adv/imagenet-check/cls_results_all_true_val.csv', header=0)\n",
    "print(df.head())"
   ]
  },
  {
   "cell_type": "code",
   "execution_count": 13,
   "metadata": {},
   "outputs": [
    {
     "name": "stdout",
     "output_type": "stream",
     "text": [
      "no name in this class\n",
      "638\n"
     ]
    }
   ],
   "source": [
    "add_filename = []\n",
    "for label in not_correct_list_label:\n",
    "    label_idx = label[0]\n",
    "\n",
    "    # select all name in the label_idx class\n",
    "    name = df[df['label'] == label_idx]['name']\n",
    "    # print(len(name))\n",
    "    # print(name.iloc[0])\n",
    "    if len(name) == 0:\n",
    "        print('no name in this class')\n",
    "        print(label_idx)\n",
    "    else:\n",
    "        add_filename.append(name.iloc[0])\n",
    "\n",
    "print(len(add_filename))"
   ]
  },
  {
   "cell_type": "code",
   "execution_count": 18,
   "metadata": {},
   "outputs": [
    {
     "name": "stdout",
     "output_type": "stream",
     "text": [
      "165\n"
     ]
    },
    {
     "name": "stdout",
     "output_type": "stream",
     "text": [
      "1000\n"
     ]
    }
   ],
   "source": [
    "# add an image in 638\n",
    "# ILSVRC2012_val_00028738.JPEG,638,False,True,True,True,True,True,True,True\n",
    "\n",
    "name = 'ILSVRC2012_val_00028738.JPEG'\n",
    "add_filename.append(name)\n",
    "\n",
    "print(len(add_filename))\n",
    "\n",
    "# step 2. add the images in add_filename to data/\n",
    "\n",
    "for name in add_filename:\n",
    "    os.system('cp /l/users/zeyuan.yin/raw_val/' + name + ' /home/zeyuan.yin/My-Adv/data/images/' + name)\n",
    "\n",
    "# check the number of images in data/\n",
    "print(len(os.listdir(dir_path)))"
   ]
  },
  {
   "cell_type": "code",
   "execution_count": 37,
   "metadata": {},
   "outputs": [
    {
     "name": "stdout",
     "output_type": "stream",
     "text": [
      "1000\n",
      "                             name  label\n",
      "14   ILSVRC2012_val_00013716.JPEG      0\n",
      "74   ILSVRC2012_val_00020785.JPEG      1\n",
      "138  ILSVRC2012_val_00037998.JPEG      2\n",
      "177  ILSVRC2012_val_00029568.JPEG      3\n",
      "233  ILSVRC2012_val_00031424.JPEG      4\n"
     ]
    }
   ],
   "source": [
    "# gen labels.csv\n",
    "# filename,label\n",
    "# ILSVRC2012_val_00013716.JPEG,0\n",
    "# ILSVRC2012_val_00020785.JPEG,1\n",
    "\n",
    "# load pd in /home/zeyuan.yin/My-Adv/imagenet-check/cls_results_val.csv\n",
    "\n",
    "df = pd.read_csv('/home/zeyuan.yin/My-Adv/imagenet-check/cls_results_val.csv', header=0)\n",
    "# print(df.head())\n",
    "\n",
    "# load all filename under /home/zeyuan.yin/My-Adv/data/images\n",
    "all_filename = os.listdir(dir_path)\n",
    "\n",
    "# extract df for only name in add_filename\n",
    "df = df[df['name'].isin(all_filename)]\n",
    "print(len(df))\n",
    "# print(df.head(5))\n",
    "\n",
    "# only save the name and label in df\n",
    "df = df[['name', 'label']]\n",
    "print(df.head(5))\n",
    "\n",
    "# save to /home/zeyuan.yin/My-Adv/data/labels_new.csv\n",
    "df.to_csv('/home/zeyuan.yin/My-Adv/data/labels_new.csv', index=False)"
   ]
  },
  {
   "cell_type": "code",
   "execution_count": 54,
   "metadata": {},
   "outputs": [
    {
     "name": "stdout",
     "output_type": "stream",
     "text": [
      "name     object\n",
      "label     int64\n",
      "dtype: object\n",
      "                           name  label targeted_label\n",
      "0  ILSVRC2012_val_00013716.JPEG      0            790\n",
      "1  ILSVRC2012_val_00020785.JPEG      1            262\n",
      "2  ILSVRC2012_val_00037998.JPEG      2            562\n",
      "3  ILSVRC2012_val_00029568.JPEG      3            438\n",
      "4  ILSVRC2012_val_00031424.JPEG      4            661\n"
     ]
    }
   ],
   "source": [
    "## generate random target label (int)\n",
    "\n",
    "df = pd.read_csv('/home/zeyuan.yin/My-Adv/data/labels_new.csv', header=0)\n",
    "\n",
    "print(df.dtypes)\n",
    "for label in df['label']:\n",
    "    targeted_label = np.random.randint(0, 1000)\n",
    "    assert targeted_label != label, 'retry'\n",
    "    df.loc[df['label'] == label, 'targeted_label'] = str(int(targeted_label))\n",
    "\n",
    "\n",
    "print(df.head(5))\n",
    "\n",
    "df.to_csv('/home/zeyuan.yin/My-Adv/data/labels_targeted_new.csv', index=False)"
   ]
  }
 ],
 "metadata": {
  "kernelspec": {
   "display_name": "Python 3",
   "language": "python",
   "name": "python3"
  },
  "language_info": {
   "codemirror_mode": {
    "name": "ipython",
    "version": 3
   },
   "file_extension": ".py",
   "mimetype": "text/x-python",
   "name": "python",
   "nbconvert_exporter": "python",
   "pygments_lexer": "ipython3",
   "version": "3.8.0"
  }
 },
 "nbformat": 4,
 "nbformat_minor": 2
}
